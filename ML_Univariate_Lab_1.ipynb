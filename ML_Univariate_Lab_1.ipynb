{
 "cells": [
  {
   "cell_type": "code",
   "execution_count": 1,
   "metadata": {},
   "outputs": [],
   "source": [
    "#####Importing Libraries#####\n",
    "import numpy as np\n",
    "import pandas as pd\n",
    "import matplotlib.pyplot as plt\n",
    "%matplotlib inline"
   ]
  },
  {
   "cell_type": "code",
   "execution_count": null,
   "metadata": {},
   "outputs": [],
   "source": []
  },
  {
   "cell_type": "code",
   "execution_count": 2,
   "metadata": {},
   "outputs": [
    {
     "data": {
      "text/html": [
       "<div>\n",
       "<style scoped>\n",
       "    .dataframe tbody tr th:only-of-type {\n",
       "        vertical-align: middle;\n",
       "    }\n",
       "\n",
       "    .dataframe tbody tr th {\n",
       "        vertical-align: top;\n",
       "    }\n",
       "\n",
       "    .dataframe thead th {\n",
       "        text-align: right;\n",
       "    }\n",
       "</style>\n",
       "<table border=\"1\" class=\"dataframe\">\n",
       "  <thead>\n",
       "    <tr style=\"text-align: right;\">\n",
       "      <th></th>\n",
       "      <th>Price</th>\n",
       "      <th>sqft</th>\n",
       "    </tr>\n",
       "  </thead>\n",
       "  <tbody>\n",
       "    <tr>\n",
       "      <td>0</td>\n",
       "      <td>13.5</td>\n",
       "      <td>500</td>\n",
       "    </tr>\n",
       "    <tr>\n",
       "      <td>1</td>\n",
       "      <td>14.0</td>\n",
       "      <td>510</td>\n",
       "    </tr>\n",
       "    <tr>\n",
       "      <td>2</td>\n",
       "      <td>14.1</td>\n",
       "      <td>512</td>\n",
       "    </tr>\n",
       "    <tr>\n",
       "      <td>3</td>\n",
       "      <td>14.8</td>\n",
       "      <td>520</td>\n",
       "    </tr>\n",
       "    <tr>\n",
       "      <td>4</td>\n",
       "      <td>15.1</td>\n",
       "      <td>530</td>\n",
       "    </tr>\n",
       "    <tr>\n",
       "      <td>5</td>\n",
       "      <td>15.3</td>\n",
       "      <td>540</td>\n",
       "    </tr>\n",
       "    <tr>\n",
       "      <td>6</td>\n",
       "      <td>15.5</td>\n",
       "      <td>550</td>\n",
       "    </tr>\n",
       "    <tr>\n",
       "      <td>7</td>\n",
       "      <td>13.8</td>\n",
       "      <td>500</td>\n",
       "    </tr>\n",
       "    <tr>\n",
       "      <td>8</td>\n",
       "      <td>13.9</td>\n",
       "      <td>510</td>\n",
       "    </tr>\n",
       "    <tr>\n",
       "      <td>9</td>\n",
       "      <td>14.0</td>\n",
       "      <td>510</td>\n",
       "    </tr>\n",
       "    <tr>\n",
       "      <td>10</td>\n",
       "      <td>14.1</td>\n",
       "      <td>515</td>\n",
       "    </tr>\n",
       "    <tr>\n",
       "      <td>11</td>\n",
       "      <td>14.3</td>\n",
       "      <td>525</td>\n",
       "    </tr>\n",
       "    <tr>\n",
       "      <td>12</td>\n",
       "      <td>14.2</td>\n",
       "      <td>535</td>\n",
       "    </tr>\n",
       "    <tr>\n",
       "      <td>13</td>\n",
       "      <td>14.8</td>\n",
       "      <td>545</td>\n",
       "    </tr>\n",
       "    <tr>\n",
       "      <td>14</td>\n",
       "      <td>14.7</td>\n",
       "      <td>541</td>\n",
       "    </tr>\n",
       "  </tbody>\n",
       "</table>\n",
       "</div>"
      ],
      "text/plain": [
       "    Price  sqft\n",
       "0    13.5   500\n",
       "1    14.0   510\n",
       "2    14.1   512\n",
       "3    14.8   520\n",
       "4    15.1   530\n",
       "5    15.3   540\n",
       "6    15.5   550\n",
       "7    13.8   500\n",
       "8    13.9   510\n",
       "9    14.0   510\n",
       "10   14.1   515\n",
       "11   14.3   525\n",
       "12   14.2   535\n",
       "13   14.8   545\n",
       "14   14.7   541"
      ]
     },
     "execution_count": 2,
     "metadata": {},
     "output_type": "execute_result"
    }
   ],
   "source": [
    "#####Reading Dataset#####\n",
    "raw_data = pd.read_csv(\"housing_price_prediction.csv\")\n",
    "raw_data.head(15)"
   ]
  },
  {
   "cell_type": "code",
   "execution_count": 3,
   "metadata": {},
   "outputs": [
    {
     "data": {
      "text/html": [
       "<div>\n",
       "<style scoped>\n",
       "    .dataframe tbody tr th:only-of-type {\n",
       "        vertical-align: middle;\n",
       "    }\n",
       "\n",
       "    .dataframe tbody tr th {\n",
       "        vertical-align: top;\n",
       "    }\n",
       "\n",
       "    .dataframe thead th {\n",
       "        text-align: right;\n",
       "    }\n",
       "</style>\n",
       "<table border=\"1\" class=\"dataframe\">\n",
       "  <thead>\n",
       "    <tr style=\"text-align: right;\">\n",
       "      <th></th>\n",
       "      <th>Price</th>\n",
       "      <th>sqft</th>\n",
       "    </tr>\n",
       "  </thead>\n",
       "  <tbody>\n",
       "    <tr>\n",
       "      <td>count</td>\n",
       "      <td>209.000000</td>\n",
       "      <td>209.000000</td>\n",
       "    </tr>\n",
       "    <tr>\n",
       "      <td>mean</td>\n",
       "      <td>23.866411</td>\n",
       "      <td>906.947368</td>\n",
       "    </tr>\n",
       "    <tr>\n",
       "      <td>std</td>\n",
       "      <td>6.060221</td>\n",
       "      <td>265.128710</td>\n",
       "    </tr>\n",
       "    <tr>\n",
       "      <td>min</td>\n",
       "      <td>13.500000</td>\n",
       "      <td>500.000000</td>\n",
       "    </tr>\n",
       "    <tr>\n",
       "      <td>25%</td>\n",
       "      <td>17.880000</td>\n",
       "      <td>682.000000</td>\n",
       "    </tr>\n",
       "    <tr>\n",
       "      <td>50%</td>\n",
       "      <td>24.800000</td>\n",
       "      <td>880.000000</td>\n",
       "    </tr>\n",
       "    <tr>\n",
       "      <td>75%</td>\n",
       "      <td>29.400000</td>\n",
       "      <td>1140.000000</td>\n",
       "    </tr>\n",
       "    <tr>\n",
       "      <td>max</td>\n",
       "      <td>33.000000</td>\n",
       "      <td>1398.000000</td>\n",
       "    </tr>\n",
       "  </tbody>\n",
       "</table>\n",
       "</div>"
      ],
      "text/plain": [
       "            Price         sqft\n",
       "count  209.000000   209.000000\n",
       "mean    23.866411   906.947368\n",
       "std      6.060221   265.128710\n",
       "min     13.500000   500.000000\n",
       "25%     17.880000   682.000000\n",
       "50%     24.800000   880.000000\n",
       "75%     29.400000  1140.000000\n",
       "max     33.000000  1398.000000"
      ]
     },
     "execution_count": 3,
     "metadata": {},
     "output_type": "execute_result"
    }
   ],
   "source": [
    "#####Describing the data#####\n",
    "raw_data.describe()"
   ]
  },
  {
   "cell_type": "code",
   "execution_count": 4,
   "metadata": {},
   "outputs": [
    {
     "data": {
      "text/plain": [
       "<matplotlib.axes._subplots.AxesSubplot at 0x7fc11a25f5d0>"
      ]
     },
     "execution_count": 4,
     "metadata": {},
     "output_type": "execute_result"
    },
    {
     "data": {
      "image/png": "[encoded data removed]",
      "text/plain": [
       "<Figure size 720x360 with 1 Axes>"
      ]
     },
     "metadata": {
      "needs_background": "light"
     },
     "output_type": "display_data"
    }
   ],
   "source": [
    "#####Plotting the Data--Before Normalization#####\n",
    "raw_data.plot(kind='scatter',x='Price',y='sqft',figsize=(10,5))"
   ]
  },
  {
   "cell_type": "code",
   "execution_count": 5,
   "metadata": {},
   "outputs": [
    {
     "data": {
      "text/html": [
       "<div>\n",
       "<style scoped>\n",
       "    .dataframe tbody tr th:only-of-type {\n",
       "        vertical-align: middle;\n",
       "    }\n",
       "\n",
       "    .dataframe tbody tr th {\n",
       "        vertical-align: top;\n",
       "    }\n",
       "\n",
       "    .dataframe thead th {\n",
       "        text-align: right;\n",
       "    }\n",
       "</style>\n",
       "<table border=\"1\" class=\"dataframe\">\n",
       "  <thead>\n",
       "    <tr style=\"text-align: right;\">\n",
       "      <th></th>\n",
       "      <th>Price</th>\n",
       "      <th>sqft</th>\n",
       "    </tr>\n",
       "  </thead>\n",
       "  <tbody>\n",
       "    <tr>\n",
       "      <td>0</td>\n",
       "      <td>-0.531611</td>\n",
       "      <td>-0.453171</td>\n",
       "    </tr>\n",
       "    <tr>\n",
       "      <td>1</td>\n",
       "      <td>-0.505970</td>\n",
       "      <td>-0.442035</td>\n",
       "    </tr>\n",
       "    <tr>\n",
       "      <td>2</td>\n",
       "      <td>-0.500842</td>\n",
       "      <td>-0.439808</td>\n",
       "    </tr>\n",
       "    <tr>\n",
       "      <td>3</td>\n",
       "      <td>-0.464944</td>\n",
       "      <td>-0.430899</td>\n",
       "    </tr>\n",
       "    <tr>\n",
       "      <td>4</td>\n",
       "      <td>-0.449560</td>\n",
       "      <td>-0.419763</td>\n",
       "    </tr>\n",
       "  </tbody>\n",
       "</table>\n",
       "</div>"
      ],
      "text/plain": [
       "      Price      sqft\n",
       "0 -0.531611 -0.453171\n",
       "1 -0.505970 -0.442035\n",
       "2 -0.500842 -0.439808\n",
       "3 -0.464944 -0.430899\n",
       "4 -0.449560 -0.419763"
      ]
     },
     "execution_count": 5,
     "metadata": {},
     "output_type": "execute_result"
    }
   ],
   "source": [
    "#####Normalizing the Data---Feaure Scaling#####\n",
    "data=(raw_data-raw_data.mean())/(raw_data.max()-raw_data.min())\n",
    "data.head()"
   ]
  },
  {
   "cell_type": "code",
   "execution_count": 6,
   "metadata": {},
   "outputs": [
    {
     "data": {
      "text/plain": [
       "<matplotlib.axes._subplots.AxesSubplot at 0x7fc1167cb190>"
      ]
     },
     "execution_count": 6,
     "metadata": {},
     "output_type": "execute_result"
    },
    {
     "data": {
      "image/png": "[encoded data removed]",
      "text/plain": [
       "<Figure size 720x360 with 1 Axes>"
      ]
     },
     "metadata": {
      "needs_background": "light"
     },
     "output_type": "display_data"
    }
   ],
   "source": [
    "#####Plotting the Data After Normalizing#####\n",
    "raw_data.plot(kind='scatter',x='Price',y='sqft',figsize=(10,5))"
   ]
  },
  {
   "cell_type": "code",
   "execution_count": 7,
   "metadata": {},
   "outputs": [
    {
     "data": {
      "text/plain": [
       "(209, 2)"
      ]
     },
     "execution_count": 7,
     "metadata": {},
     "output_type": "execute_result"
    }
   ],
   "source": [
    "#####Finding the shape of Data#####\n",
    "data.shape\n",
    "## ie m= 97 (no of Rows)##"
   ]
  },
  {
   "cell_type": "code",
   "execution_count": 8,
   "metadata": {},
   "outputs": [
    {
     "data": {
      "text/html": [
       "<div>\n",
       "<style scoped>\n",
       "    .dataframe tbody tr th:only-of-type {\n",
       "        vertical-align: middle;\n",
       "    }\n",
       "\n",
       "    .dataframe tbody tr th {\n",
       "        vertical-align: top;\n",
       "    }\n",
       "\n",
       "    .dataframe thead th {\n",
       "        text-align: right;\n",
       "    }\n",
       "</style>\n",
       "<table border=\"1\" class=\"dataframe\">\n",
       "  <thead>\n",
       "    <tr style=\"text-align: right;\">\n",
       "      <th></th>\n",
       "      <th>Ones</th>\n",
       "      <th>Price</th>\n",
       "      <th>sqft</th>\n",
       "    </tr>\n",
       "  </thead>\n",
       "  <tbody>\n",
       "    <tr>\n",
       "      <td>0</td>\n",
       "      <td>1</td>\n",
       "      <td>-0.531611</td>\n",
       "      <td>-0.453171</td>\n",
       "    </tr>\n",
       "    <tr>\n",
       "      <td>1</td>\n",
       "      <td>1</td>\n",
       "      <td>-0.505970</td>\n",
       "      <td>-0.442035</td>\n",
       "    </tr>\n",
       "    <tr>\n",
       "      <td>2</td>\n",
       "      <td>1</td>\n",
       "      <td>-0.500842</td>\n",
       "      <td>-0.439808</td>\n",
       "    </tr>\n",
       "    <tr>\n",
       "      <td>3</td>\n",
       "      <td>1</td>\n",
       "      <td>-0.464944</td>\n",
       "      <td>-0.430899</td>\n",
       "    </tr>\n",
       "    <tr>\n",
       "      <td>4</td>\n",
       "      <td>1</td>\n",
       "      <td>-0.449560</td>\n",
       "      <td>-0.419763</td>\n",
       "    </tr>\n",
       "    <tr>\n",
       "      <td>5</td>\n",
       "      <td>1</td>\n",
       "      <td>-0.439303</td>\n",
       "      <td>-0.408627</td>\n",
       "    </tr>\n",
       "    <tr>\n",
       "      <td>6</td>\n",
       "      <td>1</td>\n",
       "      <td>-0.429047</td>\n",
       "      <td>-0.397492</td>\n",
       "    </tr>\n",
       "    <tr>\n",
       "      <td>7</td>\n",
       "      <td>1</td>\n",
       "      <td>-0.516226</td>\n",
       "      <td>-0.453171</td>\n",
       "    </tr>\n",
       "    <tr>\n",
       "      <td>8</td>\n",
       "      <td>1</td>\n",
       "      <td>-0.511098</td>\n",
       "      <td>-0.442035</td>\n",
       "    </tr>\n",
       "    <tr>\n",
       "      <td>9</td>\n",
       "      <td>1</td>\n",
       "      <td>-0.505970</td>\n",
       "      <td>-0.442035</td>\n",
       "    </tr>\n",
       "    <tr>\n",
       "      <td>10</td>\n",
       "      <td>1</td>\n",
       "      <td>-0.500842</td>\n",
       "      <td>-0.436467</td>\n",
       "    </tr>\n",
       "    <tr>\n",
       "      <td>11</td>\n",
       "      <td>1</td>\n",
       "      <td>-0.490585</td>\n",
       "      <td>-0.425331</td>\n",
       "    </tr>\n",
       "    <tr>\n",
       "      <td>12</td>\n",
       "      <td>1</td>\n",
       "      <td>-0.495713</td>\n",
       "      <td>-0.414195</td>\n",
       "    </tr>\n",
       "    <tr>\n",
       "      <td>13</td>\n",
       "      <td>1</td>\n",
       "      <td>-0.464944</td>\n",
       "      <td>-0.403059</td>\n",
       "    </tr>\n",
       "    <tr>\n",
       "      <td>14</td>\n",
       "      <td>1</td>\n",
       "      <td>-0.470072</td>\n",
       "      <td>-0.407514</td>\n",
       "    </tr>\n",
       "  </tbody>\n",
       "</table>\n",
       "</div>"
      ],
      "text/plain": [
       "    Ones     Price      sqft\n",
       "0      1 -0.531611 -0.453171\n",
       "1      1 -0.505970 -0.442035\n",
       "2      1 -0.500842 -0.439808\n",
       "3      1 -0.464944 -0.430899\n",
       "4      1 -0.449560 -0.419763\n",
       "5      1 -0.439303 -0.408627\n",
       "6      1 -0.429047 -0.397492\n",
       "7      1 -0.516226 -0.453171\n",
       "8      1 -0.511098 -0.442035\n",
       "9      1 -0.505970 -0.442035\n",
       "10     1 -0.500842 -0.436467\n",
       "11     1 -0.490585 -0.425331\n",
       "12     1 -0.495713 -0.414195\n",
       "13     1 -0.464944 -0.403059\n",
       "14     1 -0.470072 -0.407514"
      ]
     },
     "execution_count": 8,
     "metadata": {},
     "output_type": "execute_result"
    }
   ],
   "source": [
    "### Inserting Ones - Data Preprocessing ###\n",
    "data.insert(0,'Ones',1)\n",
    "data.head(15)"
   ]
  },
  {
   "cell_type": "code",
   "execution_count": 9,
   "metadata": {},
   "outputs": [
    {
     "data": {
      "text/html": [
       "<div>\n",
       "<style scoped>\n",
       "    .dataframe tbody tr th:only-of-type {\n",
       "        vertical-align: middle;\n",
       "    }\n",
       "\n",
       "    .dataframe tbody tr th {\n",
       "        vertical-align: top;\n",
       "    }\n",
       "\n",
       "    .dataframe thead th {\n",
       "        text-align: right;\n",
       "    }\n",
       "</style>\n",
       "<table border=\"1\" class=\"dataframe\">\n",
       "  <thead>\n",
       "    <tr style=\"text-align: right;\">\n",
       "      <th></th>\n",
       "      <th>Ones</th>\n",
       "      <th>Price</th>\n",
       "      <th>sqft</th>\n",
       "    </tr>\n",
       "  </thead>\n",
       "  <tbody>\n",
       "    <tr>\n",
       "      <td>0</td>\n",
       "      <td>1</td>\n",
       "      <td>-0.531611</td>\n",
       "      <td>-0.453171</td>\n",
       "    </tr>\n",
       "    <tr>\n",
       "      <td>1</td>\n",
       "      <td>1</td>\n",
       "      <td>-0.505970</td>\n",
       "      <td>-0.442035</td>\n",
       "    </tr>\n",
       "    <tr>\n",
       "      <td>2</td>\n",
       "      <td>1</td>\n",
       "      <td>-0.500842</td>\n",
       "      <td>-0.439808</td>\n",
       "    </tr>\n",
       "    <tr>\n",
       "      <td>3</td>\n",
       "      <td>1</td>\n",
       "      <td>-0.464944</td>\n",
       "      <td>-0.430899</td>\n",
       "    </tr>\n",
       "    <tr>\n",
       "      <td>4</td>\n",
       "      <td>1</td>\n",
       "      <td>-0.449560</td>\n",
       "      <td>-0.419763</td>\n",
       "    </tr>\n",
       "    <tr>\n",
       "      <td>5</td>\n",
       "      <td>1</td>\n",
       "      <td>-0.439303</td>\n",
       "      <td>-0.408627</td>\n",
       "    </tr>\n",
       "    <tr>\n",
       "      <td>6</td>\n",
       "      <td>1</td>\n",
       "      <td>-0.429047</td>\n",
       "      <td>-0.397492</td>\n",
       "    </tr>\n",
       "    <tr>\n",
       "      <td>7</td>\n",
       "      <td>1</td>\n",
       "      <td>-0.516226</td>\n",
       "      <td>-0.453171</td>\n",
       "    </tr>\n",
       "    <tr>\n",
       "      <td>8</td>\n",
       "      <td>1</td>\n",
       "      <td>-0.511098</td>\n",
       "      <td>-0.442035</td>\n",
       "    </tr>\n",
       "    <tr>\n",
       "      <td>9</td>\n",
       "      <td>1</td>\n",
       "      <td>-0.505970</td>\n",
       "      <td>-0.442035</td>\n",
       "    </tr>\n",
       "    <tr>\n",
       "      <td>10</td>\n",
       "      <td>1</td>\n",
       "      <td>-0.500842</td>\n",
       "      <td>-0.436467</td>\n",
       "    </tr>\n",
       "    <tr>\n",
       "      <td>11</td>\n",
       "      <td>1</td>\n",
       "      <td>-0.490585</td>\n",
       "      <td>-0.425331</td>\n",
       "    </tr>\n",
       "    <tr>\n",
       "      <td>12</td>\n",
       "      <td>1</td>\n",
       "      <td>-0.495713</td>\n",
       "      <td>-0.414195</td>\n",
       "    </tr>\n",
       "    <tr>\n",
       "      <td>13</td>\n",
       "      <td>1</td>\n",
       "      <td>-0.464944</td>\n",
       "      <td>-0.403059</td>\n",
       "    </tr>\n",
       "    <tr>\n",
       "      <td>14</td>\n",
       "      <td>1</td>\n",
       "      <td>-0.470072</td>\n",
       "      <td>-0.407514</td>\n",
       "    </tr>\n",
       "  </tbody>\n",
       "</table>\n",
       "</div>"
      ],
      "text/plain": [
       "    Ones     Price      sqft\n",
       "0      1 -0.531611 -0.453171\n",
       "1      1 -0.505970 -0.442035\n",
       "2      1 -0.500842 -0.439808\n",
       "3      1 -0.464944 -0.430899\n",
       "4      1 -0.449560 -0.419763\n",
       "5      1 -0.439303 -0.408627\n",
       "6      1 -0.429047 -0.397492\n",
       "7      1 -0.516226 -0.453171\n",
       "8      1 -0.511098 -0.442035\n",
       "9      1 -0.505970 -0.442035\n",
       "10     1 -0.500842 -0.436467\n",
       "11     1 -0.490585 -0.425331\n",
       "12     1 -0.495713 -0.414195\n",
       "13     1 -0.464944 -0.403059\n",
       "14     1 -0.470072 -0.407514"
      ]
     },
     "execution_count": 9,
     "metadata": {},
     "output_type": "execute_result"
    }
   ],
   "source": [
    "data.head(15)\n"
   ]
  },
  {
   "cell_type": "code",
   "execution_count": 10,
   "metadata": {},
   "outputs": [
    {
     "name": "stdout",
     "output_type": "stream",
     "text": [
      "3\n"
     ]
    }
   ],
   "source": [
    "cols = data.shape[1]\n",
    "print(cols)"
   ]
  },
  {
   "cell_type": "code",
   "execution_count": 11,
   "metadata": {},
   "outputs": [],
   "source": [
    "## Separating X and Y from Data ##\n",
    "x = data.iloc[:,0:cols-1]\n",
    "y = data.iloc[:,cols-1:cols]"
   ]
  },
  {
   "cell_type": "code",
   "execution_count": 12,
   "metadata": {},
   "outputs": [],
   "source": [
    "## Converting Data into Matrix for Computation ##\n",
    "x = np.matrix(x)\n",
    "y = np.matrix(y)\n",
    "theta = np.matrix(np.array([0,0]))"
   ]
  },
  {
   "cell_type": "code",
   "execution_count": 13,
   "metadata": {},
   "outputs": [
    {
     "data": {
      "text/plain": [
       "((209, 2), (1, 2), (209, 1))"
      ]
     },
     "execution_count": 13,
     "metadata": {},
     "output_type": "execute_result"
    }
   ],
   "source": [
    "#####Finding the shape of Data#####\n",
    "x.shape,theta.shape,y.shape"
   ]
  },
  {
   "cell_type": "code",
   "execution_count": 14,
   "metadata": {},
   "outputs": [],
   "source": [
    "## Defining cost function ##\n",
    "def computeError(x,y,theta):\n",
    "    inner = np.power(((x*theta.T)-y),2)\n",
    "    return np.sum(inner)/(2*len(x))"
   ]
  },
  {
   "cell_type": "code",
   "execution_count": 15,
   "metadata": {},
   "outputs": [
    {
     "data": {
      "text/plain": [
       "0.043375839861990395"
      ]
     },
     "execution_count": 15,
     "metadata": {},
     "output_type": "execute_result"
    }
   ],
   "source": [
    "## Computing cost Function (Error) ##\n",
    "computeError(x,y,theta)"
   ]
  },
  {
   "cell_type": "code",
   "execution_count": 16,
   "metadata": {},
   "outputs": [],
   "source": [
    "##### Defining Gradient Descent ######\n",
    "learn_rate = 1"
   ]
  },
  {
   "cell_type": "code",
   "execution_count": 17,
   "metadata": {},
   "outputs": [],
   "source": [
    "iters = 200"
   ]
  },
  {
   "cell_type": "code",
   "execution_count": 18,
   "metadata": {},
   "outputs": [],
   "source": [
    "def gradientDescent(x,y,theta,learn_rate,iters):\n",
    "    temp = np.matrix(np.zeros(theta.shape))\n",
    "    parameters = int(theta.ravel().shape[1])\n",
    "    cost = np.zeros(iters)\n",
    "    for i in range(iters):\n",
    "        error = (x * theta.T)-y\n",
    "        for j in range(parameters):\n",
    "            term = np.multiply(error,x[:,j])\n",
    "            temp[0,j] = theta[0,j]-((learn_rate/len(x))*np.sum(term))\n",
    "        theta = temp\n",
    "        cost[i] = computeError(x,y,theta)\n",
    "    return theta,cost"
   ]
  },
  {
   "cell_type": "markdown",
   "metadata": {},
   "source": []
  },
  {
   "cell_type": "code",
   "execution_count": 19,
   "metadata": {},
   "outputs": [
    {
     "name": "stdout",
     "output_type": "stream",
     "text": [
      "[[4.27754589e-16 9.33450898e-01]] [0.03571209 0.02945084 0.02433543 0.02015618 0.01674175 0.01395217\n",
      " 0.01167311 0.00981112 0.00828989 0.00704705 0.00603166 0.00520209\n",
      " 0.00452434 0.00397062 0.00351823 0.00314863 0.00284667 0.00259997\n",
      " 0.00239842 0.00223375 0.00209922 0.00198931 0.00189951 0.00182615\n",
      " 0.00176621 0.00171724 0.00167723 0.00164455 0.00161784 0.00159603\n",
      " 0.0015782  0.00156364 0.00155174 0.00154202 0.00153408 0.00152759\n",
      " 0.00152229 0.00151796 0.00151442 0.00151153 0.00150917 0.00150724\n",
      " 0.00150567 0.00150438 0.00150333 0.00150247 0.00150176 0.00150119\n",
      " 0.00150072 0.00150034 0.00150002 0.00149977 0.00149956 0.00149939\n",
      " 0.00149925 0.00149914 0.00149904 0.00149897 0.00149891 0.00149885\n",
      " 0.00149881 0.00149878 0.00149875 0.00149873 0.00149871 0.0014987\n",
      " 0.00149868 0.00149867 0.00149866 0.00149866 0.00149865 0.00149865\n",
      " 0.00149864 0.00149864 0.00149864 0.00149864 0.00149864 0.00149863\n",
      " 0.00149863 0.00149863 0.00149863 0.00149863 0.00149863 0.00149863\n",
      " 0.00149863 0.00149863 0.00149863 0.00149863 0.00149863 0.00149863\n",
      " 0.00149863 0.00149863 0.00149863 0.00149863 0.00149863 0.00149863\n",
      " 0.00149863 0.00149863 0.00149863 0.00149863 0.00149863 0.00149863\n",
      " 0.00149863 0.00149863 0.00149863 0.00149863 0.00149863 0.00149863\n",
      " 0.00149863 0.00149863 0.00149863 0.00149863 0.00149863 0.00149863\n",
      " 0.00149863 0.00149863 0.00149863 0.00149863 0.00149863 0.00149863\n",
      " 0.00149863 0.00149863 0.00149863 0.00149863 0.00149863 0.00149863\n",
      " 0.00149863 0.00149863 0.00149863 0.00149863 0.00149863 0.00149863\n",
      " 0.00149863 0.00149863 0.00149863 0.00149863 0.00149863 0.00149863\n",
      " 0.00149863 0.00149863 0.00149863 0.00149863 0.00149863 0.00149863\n",
      " 0.00149863 0.00149863 0.00149863 0.00149863 0.00149863 0.00149863\n",
      " 0.00149863 0.00149863 0.00149863 0.00149863 0.00149863 0.00149863\n",
      " 0.00149863 0.00149863 0.00149863 0.00149863 0.00149863 0.00149863\n",
      " 0.00149863 0.00149863 0.00149863 0.00149863 0.00149863 0.00149863\n",
      " 0.00149863 0.00149863 0.00149863 0.00149863 0.00149863 0.00149863\n",
      " 0.00149863 0.00149863 0.00149863 0.00149863 0.00149863 0.00149863\n",
      " 0.00149863 0.00149863 0.00149863 0.00149863 0.00149863 0.00149863\n",
      " 0.00149863 0.00149863 0.00149863 0.00149863 0.00149863 0.00149863\n",
      " 0.00149863 0.00149863 0.00149863 0.00149863 0.00149863 0.00149863\n",
      " 0.00149863 0.00149863]\n"
     ]
    }
   ],
   "source": [
    "########## Computing Gradient Descent #######\n",
    "new_theta, cost = gradientDescent(x,y,theta,learn_rate,iters)\n",
    "print(new_theta,cost)"
   ]
  },
  {
   "cell_type": "code",
   "execution_count": 20,
   "metadata": {},
   "outputs": [
    {
     "data": {
      "text/plain": [
       "0.0014986278721006632"
      ]
     },
     "execution_count": 20,
     "metadata": {},
     "output_type": "execute_result"
    }
   ],
   "source": [
    "### Comput Error after Gradient Descent ###\n",
    "computeError(x,y,new_theta)"
   ]
  },
  {
   "cell_type": "code",
   "execution_count": 21,
   "metadata": {},
   "outputs": [
    {
     "name": "stdout",
     "output_type": "stream",
     "text": [
      "0     -0.531611\n",
      "1     -0.505970\n",
      "2     -0.500842\n",
      "3     -0.464944\n",
      "4     -0.449560\n",
      "         ...   \n",
      "204    0.463261\n",
      "205    0.442748\n",
      "206    0.468389\n",
      "207    0.458133\n",
      "208    0.447876\n",
      "Name: Price, Length: 209, dtype: float64\n"
     ]
    }
   ],
   "source": [
    "#### predicting the model using new theta ####\n",
    "x = data.Price\n",
    "print(x)\n"
   ]
  },
  {
   "cell_type": "code",
   "execution_count": 22,
   "metadata": {},
   "outputs": [],
   "source": [
    "Model_price = new_theta[0,0]+ (new_theta[0,1]*x)"
   ]
  },
  {
   "cell_type": "code",
   "execution_count": 23,
   "metadata": {},
   "outputs": [
    {
     "data": {
      "text/plain": [
       "Text(0.5, 1.0, 'Predcited SQFT vs Price')"
      ]
     },
     "execution_count": 23,
     "metadata": {},
     "output_type": "execute_result"
    },
    {
     "data": {
      "image/png": "[encoded data removed]",
      "text/plain": [
       "<Figure size 864x576 with 1 Axes>"
      ]
     },
     "metadata": {
      "needs_background": "light"
     },
     "output_type": "display_data"
    }
   ],
   "source": [
    "###  Plotting the model ####\n",
    "fig, ax = plt.subplots(figsize=(12,8))\n",
    "ax.plot(x,Model_price,'r',label='Prediction')\n",
    "ax.scatter(data.Price,data.sqft,label='Training Data')\n",
    "ax.legend(loc=2)\n",
    "ax.set_xlabel('Price')\n",
    "ax.set_ylabel('Sqft')\n",
    "ax.set_title('Predcited SQFT vs Price')"
   ]
  },
  {
   "cell_type": "code",
   "execution_count": 24,
   "metadata": {},
   "outputs": [
    {
     "data": {
      "text/plain": [
       "Text(0.5, 1.0, 'Error vs. Iterations')"
      ]
     },
     "execution_count": 24,
     "metadata": {},
     "output_type": "execute_result"
    },
    {
     "data": {
      "image/png": "[encoded data removed]",
      "text/plain": [
       "<Figure size 864x576 with 1 Axes>"
      ]
     },
     "metadata": {
      "needs_background": "light"
     },
     "output_type": "display_data"
    }
   ],
   "source": [
    "### Error Vs Iteration ####\n",
    "fig, ax = plt.subplots(figsize = (12,8))\n",
    "ax.plot(np.arange(iters),cost,'r')\n",
    "ax.set_xlabel('Iterations')\n",
    "ax.set_ylabel('Cost')\n",
    "ax.set_title('Error vs. Iterations')"
   ]
  },
  {
   "cell_type": "code",
   "execution_count": 25,
   "metadata": {},
   "outputs": [
    {
     "name": "stdout",
     "output_type": "stream",
     "text": [
      "error % =0.29972557442013265\n",
      "accuracy%=99.70027442557986\n"
     ]
    }
   ],
   "source": [
    "### Accuracy #####\n",
    "import math\n",
    "erro_r = [np.power((b-a),2) for (a,b) in zip(Model_price ,y)]  #mean absolute percentage error\n",
    "error0 = np.sum(erro_r)\n",
    "error = (error0/len(y))*100\n",
    "print(\"error % ={}\".format(error))\n",
    "accuracy = 100-error\n",
    "print(\"accuracy%={}\".format(accuracy))"
   ]
  },
  {
   "cell_type": "code",
   "execution_count": 26,
   "metadata": {},
   "outputs": [],
   "source": [
    "### Define Prediction  ####\n",
    "def predict(new_theta,accuracy):\n",
    "    #get input from the user\n",
    "    price = float(input(\"Enter the Price of the House (In lakhs):\"))\n",
    "    #mean Normalization\n",
    "    price = (price - raw_data.Price.mean())/(raw_data.Price.max()-raw_data.Price.min())\n",
    "    #model\n",
    "    size = (new_theta[0,0]+(new_theta[0,1]*price))\n",
    "    #Reverse MEan Normalization\n",
    "    Predicted_Size = (size*(raw_data.sqft.max()-raw_data.sqft.min()))+(raw_data.sqft.mean())\n",
    "    Size_at_Max_Accuracy = (Predicted_Size*(1/accuracy)*100)\n",
    "    Size_range = Size_at_Max_Accuracy - Predicted_Size\n",
    "    return Predicted_Size, Size_range"
   ]
  },
  {
   "cell_type": "code",
   "execution_count": 30,
   "metadata": {},
   "outputs": [
    {
     "name": "stdout",
     "output_type": "stream",
     "text": [
      "Enter the Price of the House:12\n",
      "Your house Size is == 396.85055919090865 Sqft (+ or -) 1.1930384595002579 Sqft\n"
     ]
    }
   ],
   "source": [
    "#### Final Prediction based on Univariate Regression ##########\n",
    "Predicted_Size, Size_range = predict(new_theta,accuracy)\n",
    "print('Your house Size is == '+str(Predicted_Size)+' Sqft '+'(+ or -) '+str(Size_range)+' Sqft')"
   ]
  },
  {
   "cell_type": "code",
   "execution_count": null,
   "metadata": {},
   "outputs": [],
   "source": []
  }
 ],
 "metadata": {
  "kernelspec": {
   "display_name": "Python 3",
   "language": "python",
   "name": "python3"
  },
  "language_info": {
   "codemirror_mode": {
    "name": "ipython",
    "version": 3
   },
   "file_extension": ".py",
   "mimetype": "text/x-python",
   "name": "python",
   "nbconvert_exporter": "python",
   "pygments_lexer": "ipython3",
   "version": "3.7.4"
  }
 },
 "nbformat": 4,
 "nbformat_minor": 2
}
